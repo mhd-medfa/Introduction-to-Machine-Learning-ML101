{
 "cells": [
  {
   "cell_type": "markdown",
   "metadata": {},
   "source": [
    "# Linear Regression with One Variable"
   ]
  },
  {
   "cell_type": "markdown",
   "metadata": {},
   "source": [
    "![Introduction](Images/Course Logo.PNG)"
   ]
  },
  {
   "cell_type": "markdown",
   "metadata": {},
   "source": [
    "### Linear regression من المتوقع في نهاية هذا الدرس أن يكون المتعلم قادر بمفرده على بناء نظام \n",
    "### Gradient descent من أجل مجموعة بيانات بدخل و خرج وحيدين بالإضافة إلى فهم خوارزمية \n",
    "### .و التي تعتبر حجر الأساس في العديد من خوارزميات تعلم الآلة و التعلم العميق"
   ]
  },
  {
   "cell_type": "markdown",
   "metadata": {},
   "source": [
    "###  خلال درس اليوم سنتعلم سوية تعتبر من أبسط خوارزميات تعلم الآلة ألا و هي خوارزمية\n",
    "###  Linear Regression\n",
    "###  Y و هي خوارزمية بسيطة تستخدم لإيجاد النموذج الرياضي الذي يربط بين متحول رياضي  \n",
    "###  X و متحول أو عدة متحولات رياضية أخرى \n",
    "###  Y بعد إيجاد هذه العلاقة يصبح بإمكاننا التنبؤ بقيمة \n",
    "###  X من أجل قيمة معينة للمتغير/ مجموعة المتغيرات"
   ]
  },
  {
   "cell_type": "markdown",
   "metadata": {},
   "source": [
    "### ملاحظة: إذا كنت قد أصبت بالإحباط من التعريف الممل في الأعلى فلا تأبه به و دعنا نبدأ بمراجعة ما كنا قد تعلمناه خلال المحاضرة \n",
    "### حيث أننا قمنا سوية ببناء نظام قادر على التنبؤ بدرجات طالب ما بالاعتماد على عدد ساعات دراسته لهذه المادة"
   ]
  },
  {
   "cell_type": "code",
   "execution_count": 111,
   "metadata": {},
   "outputs": [
    {
     "data": {
      "text/html": [
       "<img src=\"./Images/gradient_descent_example.gif\"/>"
      ],
      "text/plain": [
       "<IPython.core.display.Image object>"
      ]
     },
     "metadata": {},
     "output_type": "display_data"
    }
   ],
   "source": [
    "from IPython.display import Image\n",
    "from IPython.display import display\n",
    "display(Image(url='./Images/gradient_descent_example.gif'))"
   ]
  },
  {
   "cell_type": "code",
   "execution_count": 54,
   "metadata": {},
   "outputs": [],
   "source": [
    "import numpy as np # تتميز هذه المكتبة بقدرتها على التعامل مع المصفوفات الضخمة متعددة الأبعاد كما أنها مزودة\n",
    "                   # بالعديد من التوابع الرياضية للتعامل مع هذه المصفوفات\n",
    "import pandas as pd # تعتبر من أهم و أقوى المكتبات الموجودة بلغة بايثون لمعالجة و تحليل البيانات"
   ]
  },
  {
   "cell_type": "markdown",
   "metadata": {},
   "source": [
    "## الخطوة الأولى في مشاريع تعلم الآلة هي قراءة مجموعات البيانات, كما أن هناك طرق عدة لقراءة هذه الملفات منها الطريقتين التاليتين \n",
    "## %timeit و اللتان سنقوم بقياس أداء كل منهما عبر استخدام "
   ]
  },
  {
   "cell_type": "code",
   "execution_count": 55,
   "metadata": {},
   "outputs": [
    {
     "name": "stdout",
     "output_type": "stream",
     "text": [
      "100 loops, best of 3: 5.01 ms per loop\n"
     ]
    }
   ],
   "source": [
    "%timeit students_data = pd.read_csv('data1.csv', header=None)"
   ]
  },
  {
   "cell_type": "code",
   "execution_count": 56,
   "metadata": {},
   "outputs": [
    {
     "name": "stdout",
     "output_type": "stream",
     "text": [
      "100 loops, best of 3: 5.04 ms per loop\n"
     ]
    }
   ],
   "source": [
    "%timeit test = np.genfromtxt('data1.csv',delimiter=',')\n"
   ]
  },
  {
   "cell_type": "code",
   "execution_count": 57,
   "metadata": {},
   "outputs": [],
   "source": [
    "students_data = pd.read_csv('data1.csv', header=None)"
   ]
  },
  {
   "cell_type": "markdown",
   "metadata": {},
   "source": [
    "## .عادة ما نقوم بمعالجة البيانات و التحقق من سلامتها و خلوها من الشوائب قبل البدء بعملية التدريب\n",
    "## :مع أن مجموعة البيانات المتوفرة لدينا خالية تماماً من أية مشاكل لكننا سنقوم بالتحقق من ذلك بأنفسنا كما يلي"
   ]
  },
  {
   "cell_type": "code",
   "execution_count": 58,
   "metadata": {},
   "outputs": [
    {
     "data": {
      "text/html": [
       "<div>\n",
       "<style>\n",
       "    .dataframe thead tr:only-child th {\n",
       "        text-align: right;\n",
       "    }\n",
       "\n",
       "    .dataframe thead th {\n",
       "        text-align: left;\n",
       "    }\n",
       "\n",
       "    .dataframe tbody tr th {\n",
       "        vertical-align: top;\n",
       "    }\n",
       "</style>\n",
       "<table border=\"1\" class=\"dataframe\">\n",
       "  <thead>\n",
       "    <tr style=\"text-align: right;\">\n",
       "      <th></th>\n",
       "      <th>0</th>\n",
       "      <th>1</th>\n",
       "    </tr>\n",
       "  </thead>\n",
       "  <tbody>\n",
       "    <tr>\n",
       "      <th>0</th>\n",
       "      <td>32.502345</td>\n",
       "      <td>31.707006</td>\n",
       "    </tr>\n",
       "    <tr>\n",
       "      <th>1</th>\n",
       "      <td>53.426804</td>\n",
       "      <td>68.777596</td>\n",
       "    </tr>\n",
       "    <tr>\n",
       "      <th>2</th>\n",
       "      <td>61.530358</td>\n",
       "      <td>62.562382</td>\n",
       "    </tr>\n",
       "    <tr>\n",
       "      <th>3</th>\n",
       "      <td>47.475640</td>\n",
       "      <td>71.546632</td>\n",
       "    </tr>\n",
       "    <tr>\n",
       "      <th>4</th>\n",
       "      <td>59.813208</td>\n",
       "      <td>87.230925</td>\n",
       "    </tr>\n",
       "  </tbody>\n",
       "</table>\n",
       "</div>"
      ],
      "text/plain": [
       "           0          1\n",
       "0  32.502345  31.707006\n",
       "1  53.426804  68.777596\n",
       "2  61.530358  62.562382\n",
       "3  47.475640  71.546632\n",
       "4  59.813208  87.230925"
      ]
     },
     "execution_count": 58,
     "metadata": {},
     "output_type": "execute_result"
    }
   ],
   "source": [
    "students_data.head()"
   ]
  },
  {
   "cell_type": "code",
   "execution_count": 60,
   "metadata": {},
   "outputs": [
    {
     "data": {
      "text/plain": [
       "100"
      ]
     },
     "execution_count": 60,
     "metadata": {},
     "output_type": "execute_result"
    }
   ],
   "source": [
    "len(students_data)"
   ]
  },
  {
   "cell_type": "code",
   "execution_count": 61,
   "metadata": {},
   "outputs": [
    {
     "data": {
      "text/html": [
       "<div>\n",
       "<style>\n",
       "    .dataframe thead tr:only-child th {\n",
       "        text-align: right;\n",
       "    }\n",
       "\n",
       "    .dataframe thead th {\n",
       "        text-align: left;\n",
       "    }\n",
       "\n",
       "    .dataframe tbody tr th {\n",
       "        vertical-align: top;\n",
       "    }\n",
       "</style>\n",
       "<table border=\"1\" class=\"dataframe\">\n",
       "  <thead>\n",
       "    <tr style=\"text-align: right;\">\n",
       "      <th></th>\n",
       "      <th>0</th>\n",
       "      <th>1</th>\n",
       "    </tr>\n",
       "  </thead>\n",
       "  <tbody>\n",
       "    <tr>\n",
       "      <th>count</th>\n",
       "      <td>100.000000</td>\n",
       "      <td>100.000000</td>\n",
       "    </tr>\n",
       "    <tr>\n",
       "      <th>mean</th>\n",
       "      <td>48.958341</td>\n",
       "      <td>72.735051</td>\n",
       "    </tr>\n",
       "    <tr>\n",
       "      <th>std</th>\n",
       "      <td>9.746379</td>\n",
       "      <td>16.658187</td>\n",
       "    </tr>\n",
       "    <tr>\n",
       "      <th>min</th>\n",
       "      <td>25.128485</td>\n",
       "      <td>31.707006</td>\n",
       "    </tr>\n",
       "    <tr>\n",
       "      <th>25%</th>\n",
       "      <td>41.526164</td>\n",
       "      <td>60.788586</td>\n",
       "    </tr>\n",
       "    <tr>\n",
       "      <th>50%</th>\n",
       "      <td>49.634970</td>\n",
       "      <td>72.179542</td>\n",
       "    </tr>\n",
       "    <tr>\n",
       "      <th>75%</th>\n",
       "      <td>56.762631</td>\n",
       "      <td>83.215080</td>\n",
       "    </tr>\n",
       "    <tr>\n",
       "      <th>max</th>\n",
       "      <td>70.346076</td>\n",
       "      <td>118.591217</td>\n",
       "    </tr>\n",
       "  </tbody>\n",
       "</table>\n",
       "</div>"
      ],
      "text/plain": [
       "                0           1\n",
       "count  100.000000  100.000000\n",
       "mean    48.958341   72.735051\n",
       "std      9.746379   16.658187\n",
       "min     25.128485   31.707006\n",
       "25%     41.526164   60.788586\n",
       "50%     49.634970   72.179542\n",
       "75%     56.762631   83.215080\n",
       "max     70.346076  118.591217"
      ]
     },
     "execution_count": 61,
     "metadata": {},
     "output_type": "execute_result"
    }
   ],
   "source": [
    "students_data.describe()"
   ]
  },
  {
   "cell_type": "code",
   "execution_count": 62,
   "metadata": {},
   "outputs": [
    {
     "data": {
      "text/html": [
       "<div>\n",
       "<style>\n",
       "    .dataframe thead tr:only-child th {\n",
       "        text-align: right;\n",
       "    }\n",
       "\n",
       "    .dataframe thead th {\n",
       "        text-align: left;\n",
       "    }\n",
       "\n",
       "    .dataframe tbody tr th {\n",
       "        vertical-align: top;\n",
       "    }\n",
       "</style>\n",
       "<table border=\"1\" class=\"dataframe\">\n",
       "  <thead>\n",
       "    <tr style=\"text-align: right;\">\n",
       "      <th></th>\n",
       "      <th>0</th>\n",
       "      <th>1</th>\n",
       "    </tr>\n",
       "  </thead>\n",
       "  <tbody>\n",
       "  </tbody>\n",
       "</table>\n",
       "</div>"
      ],
      "text/plain": [
       "Empty DataFrame\n",
       "Columns: [0, 1]\n",
       "Index: []"
      ]
     },
     "execution_count": 62,
     "metadata": {},
     "output_type": "execute_result"
    }
   ],
   "source": [
    "students_data[students_data.isnull().values]"
   ]
  },
  {
   "cell_type": "code",
   "execution_count": 63,
   "metadata": {},
   "outputs": [],
   "source": [
    "students_data.columns = ['grade', 'hours']"
   ]
  },
  {
   "cell_type": "code",
   "execution_count": 64,
   "metadata": {},
   "outputs": [
    {
     "data": {
      "text/plain": [
       "grade    float64\n",
       "hours    float64\n",
       "dtype: object"
      ]
     },
     "execution_count": 64,
     "metadata": {},
     "output_type": "execute_result"
    }
   ],
   "source": [
    "students_data.dtypes"
   ]
  },
  {
   "cell_type": "code",
   "execution_count": 65,
   "metadata": {},
   "outputs": [
    {
     "data": {
      "text/html": [
       "<div>\n",
       "<style>\n",
       "    .dataframe thead tr:only-child th {\n",
       "        text-align: right;\n",
       "    }\n",
       "\n",
       "    .dataframe thead th {\n",
       "        text-align: left;\n",
       "    }\n",
       "\n",
       "    .dataframe tbody tr th {\n",
       "        vertical-align: top;\n",
       "    }\n",
       "</style>\n",
       "<table border=\"1\" class=\"dataframe\">\n",
       "  <thead>\n",
       "    <tr style=\"text-align: right;\">\n",
       "      <th></th>\n",
       "      <th>grade</th>\n",
       "      <th>hours</th>\n",
       "    </tr>\n",
       "  </thead>\n",
       "  <tbody>\n",
       "    <tr>\n",
       "      <th>0</th>\n",
       "      <td>32.502345</td>\n",
       "      <td>31.707006</td>\n",
       "    </tr>\n",
       "    <tr>\n",
       "      <th>1</th>\n",
       "      <td>53.426804</td>\n",
       "      <td>68.777596</td>\n",
       "    </tr>\n",
       "    <tr>\n",
       "      <th>2</th>\n",
       "      <td>61.530358</td>\n",
       "      <td>62.562382</td>\n",
       "    </tr>\n",
       "    <tr>\n",
       "      <th>3</th>\n",
       "      <td>47.475640</td>\n",
       "      <td>71.546632</td>\n",
       "    </tr>\n",
       "    <tr>\n",
       "      <th>4</th>\n",
       "      <td>59.813208</td>\n",
       "      <td>87.230925</td>\n",
       "    </tr>\n",
       "  </tbody>\n",
       "</table>\n",
       "</div>"
      ],
      "text/plain": [
       "       grade      hours\n",
       "0  32.502345  31.707006\n",
       "1  53.426804  68.777596\n",
       "2  61.530358  62.562382\n",
       "3  47.475640  71.546632\n",
       "4  59.813208  87.230925"
      ]
     },
     "execution_count": 65,
     "metadata": {},
     "output_type": "execute_result"
    }
   ],
   "source": [
    "students_data.head()"
   ]
  },
  {
   "cell_type": "markdown",
   "metadata": {},
   "source": [
    "## الخطوة الثانية: لنبدأ الآن بتنجيز التابع الخاص بإيجاد قيم المربعات الصغرى لحساب الخطأ\n",
    "![title](Images/linear_regression_error1.png)"
   ]
  },
  {
   "cell_type": "code",
   "execution_count": 99,
   "metadata": {},
   "outputs": [],
   "source": [
    "x = np.zeros(len(students_data))\n",
    "y = np.zeros(len(students_data))\n",
    "\n",
    "def compute_error_for_line_given_data(b, m, students_data):\n",
    "    error=0\n",
    "    x = students_data['grade']\n",
    "    y = students_data['hours']\n",
    "    N = len(students_data)\n",
    "    error = np.sum((y-(m*x + b))**2)/N\n",
    "    return error\n"
   ]
  },
  {
   "cell_type": "markdown",
   "metadata": {},
   "source": [
    "## الخطوة الثالثة: الآن لنقم بتنجيز تابع إيجاد قيم شعاع المشتقات الجزئية من أجل خطوة واحدة\n",
    "## Step Gradient\n",
    "![title](Images/linear_regression_gradient1.png)"
   ]
  },
  {
   "cell_type": "code",
   "execution_count": 105,
   "metadata": {},
   "outputs": [],
   "source": [
    "def step_gradient(b_current, m_current, data, learning_rate):\n",
    "    \n",
    "    b = b_current\n",
    "    m = m_current\n",
    "    N = len(data)\n",
    "    x = data['grade']\n",
    "    y = data['hours']\n",
    "    \n",
    "    m_gradient = np.sum(-2*x*(y - (m*x + b)))/N\n",
    "    b_gradient = np.sum(-2*(y - (m*x +b)))/N\n",
    "    new_m = m - learning_rate*m_gradient\n",
    "    new_b = m - learning_rate*b_gradient\n",
    "    return [new_m, new_b]#,m_gradient,b_gradient]"
   ]
  },
  {
   "cell_type": "markdown",
   "metadata": {},
   "source": [
    "![gradient_descent](Images/GradientDescent.PNG)"
   ]
  },
  {
   "cell_type": "markdown",
   "metadata": {},
   "source": [
    "## الخطوة الرابعة و الأخيرة: و هي أن نقوم بإنشاء التابع المسؤول عن تنفيذ الخوارزمية \n",
    "## .(من أجل عدد معين من التكرارات (في حالتنا قمنا باختيار 1000 تكرار"
   ]
  },
  {
   "cell_type": "code",
   "execution_count": 107,
   "metadata": {},
   "outputs": [],
   "source": [
    "def gradient_descent_runner(data, starting_b, starting_m, learning_rate, num_iterations):\n",
    "    b = starting_b\n",
    "    m = starting_m\n",
    "    for i in range(num_iterations):\n",
    "        b, m = step_gradient(b, m, data, learning_rate)\n",
    "    return [b, m]"
   ]
  },
  {
   "cell_type": "markdown",
   "metadata": {},
   "source": [
    "## التنفيذ"
   ]
  },
  {
   "cell_type": "code",
   "execution_count": 114,
   "metadata": {},
   "outputs": [],
   "source": [
    "def run():\n",
    "    # Hyperparameters\n",
    "    learning_rate = 0.001\n",
    "    num_iterations = 1000\n",
    "    initial_m = 0\n",
    "    initial_b = 0\n",
    "    print(\"Starting gradient descent at b = {0}, m = {1}, error = {2}\".format(initial_b, initial_m, compute_error_for_line_given_data(initial_b, initial_m, students_data)))\n",
    "    print(\"Running...\")\n",
    "    [b, m] = gradient_descent_runner(students_data, initial_b, initial_m, learning_rate, num_iterations)\n",
    "    print(\"After {0} iterations b = {1}, m = {2}, error = {3}\".format(num_iterations, b, m, compute_error_for_line_given_data(b, m, students_data)))"
   ]
  },
  {
   "cell_type": "code",
   "execution_count": 115,
   "metadata": {},
   "outputs": [
    {
     "name": "stdout",
     "output_type": "stream",
     "text": [
      "Starting gradient descent at b = 0, m = 0, error = 5565.10783448321\n",
      "Running...\n",
      "After 1000 iterations b = 1.4312175809829089, m = 1.4564184742387396, error = 111.94568519744024\n"
     ]
    }
   ],
   "source": [
    "run()"
   ]
  },
  {
   "attachments": {},
   "cell_type": "markdown",
   "metadata": {},
   "source": [
    "## Alpha في الختام نستعرض الشرح التوضيحي التالي و الذي يبين أهمية عامل التعلم و الذي عادة ما نرمز له بالرمز اللاتيني  \n",
    "![Learning_Rate](Images/learningRate.PNG)"
   ]
  },
  {
   "cell_type": "markdown",
   "metadata": {},
   "source": [
    "## ------------------------------------------------------- النهاية -----------------------------------------------------------------------"
   ]
  }
 ],
 "metadata": {
  "kernelspec": {
   "display_name": "Python [conda env:Anaconda3]",
   "language": "python",
   "name": "conda-env-Anaconda3-py"
  },
  "language_info": {
   "codemirror_mode": {
    "name": "ipython",
    "version": 3
   },
   "file_extension": ".py",
   "mimetype": "text/x-python",
   "name": "python",
   "nbconvert_exporter": "python",
   "pygments_lexer": "ipython3",
   "version": "3.5.4"
  }
 },
 "nbformat": 4,
 "nbformat_minor": 2
}
